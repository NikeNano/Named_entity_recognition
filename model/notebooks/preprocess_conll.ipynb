{
 "cells": [
  {
   "cell_type": "code",
   "execution_count": 1,
   "metadata": {},
   "outputs": [],
   "source": [
    "import os\n",
    "import pandas as pd\n",
    "import numpy as np"
   ]
  },
  {
   "cell_type": "code",
   "execution_count": 2,
   "metadata": {},
   "outputs": [],
   "source": [
    "folder_path = r\"/Users/Niklas/Downloads/NeuroNER/data/conll2003/en\"\n",
    "file_name = \"test.txt\"\n",
    "df =pd.read_csv(os.path.join(folder_path,file_name),delimiter=\" \",skip_blank_lines=False)"
   ]
  },
  {
   "cell_type": "code",
   "execution_count": 3,
   "metadata": {},
   "outputs": [],
   "source": [
    "def process_data(folder_path=None,file_name=None):\n",
    "    df =pd.read_csv(os.path.join(folder_path,file_name),delimiter=\" \",skip_blank_lines=False)\n",
    "    df[\"O\"] = np.where(((df[\"O\"].isna()) & (df[\"-DOCSTART-\"].isna())),\"split_niklas\", df[\"O\"])\n",
    "    df[\"-DOCSTART-\"] = np.where(((df[\"O\"]==\"split_niklas\") & (df[\"-DOCSTART-\"].isna())),\"split_niklas\", df[\"-DOCSTART-\"])\n",
    "    df[\"O\"] = np.where(df[\"O\"].isna(),\"O\",df[\"O\"] )\n",
    "    label = list(df[\"O\"])\n",
    "    label = list(map(str, label))\n",
    "    label = ' '.join(label)\n",
    "    label = label.split(\"split_niklas\")\n",
    "    label = list(filter(None, label))\n",
    "    text = list(df[\"-DOCSTART-\"])\n",
    "    text = list(map(str, text))\n",
    "    text = ' '.join(text)\n",
    "    text = text.split(\"split_niklas\")\n",
    "    text = list(filter(None, text))\n",
    "    df_out = pd.DataFrame(data={\"label\":label,\"text\":text})\n",
    "    df_out = df_out[df_out[\"text\"]!= \"-DOCSTART-\"]\n",
    "    df_out[\"len_label\"]=df_out[\"label\"].apply(lambda x:len(x.split()))\n",
    "    df_out[\"len_text\"]=df_out[\"text\"].apply(lambda x:len(x.split()))\n",
    "    return df_out"
   ]
  },
  {
   "cell_type": "code",
   "execution_count": 4,
   "metadata": {},
   "outputs": [],
   "source": [
    "df_out = process_data(folder_path,file_name)"
   ]
  },
  {
   "cell_type": "code",
   "execution_count": 5,
   "metadata": {},
   "outputs": [],
   "source": [
    "df_out.drop([\"len_label\",\"len_text\"],axis=1,inplace=True)\n",
    "label = df_out[\"label\"]\n",
    "text = df_out[\"text\"]\n",
    "label.to_csv(\"/Users/Niklas/Documents/Named_entity_recognition/data/small/big_train/test_label.txt\",header=None)\n",
    "text.to_csv(\"/Users/Niklas/Documents/Named_entity_recognition/data/small/big_train/test_text.txt\",header=None)"
   ]
  },
  {
   "cell_type": "code",
   "execution_count": 6,
   "metadata": {},
   "outputs": [
    {
     "data": {
      "text/html": [
       "<div>\n",
       "<style scoped>\n",
       "    .dataframe tbody tr th:only-of-type {\n",
       "        vertical-align: middle;\n",
       "    }\n",
       "\n",
       "    .dataframe tbody tr th {\n",
       "        vertical-align: top;\n",
       "    }\n",
       "\n",
       "    .dataframe thead th {\n",
       "        text-align: right;\n",
       "    }\n",
       "</style>\n",
       "<table border=\"1\" class=\"dataframe\">\n",
       "  <thead>\n",
       "    <tr style=\"text-align: right;\">\n",
       "      <th></th>\n",
       "      <th>label</th>\n",
       "      <th>text</th>\n",
       "    </tr>\n",
       "  </thead>\n",
       "  <tbody>\n",
       "    <tr>\n",
       "      <th>0</th>\n",
       "      <td>O O B-LOC O O O O B-PER O O O O</td>\n",
       "      <td>SOCCER - JAPAN GET LUCKY WIN , CHINA IN SURPR...</td>\n",
       "    </tr>\n",
       "    <tr>\n",
       "      <th>1</th>\n",
       "      <td>B-PER I-PER</td>\n",
       "      <td>Nadim Ladki</td>\n",
       "    </tr>\n",
       "    <tr>\n",
       "      <th>2</th>\n",
       "      <td>B-LOC O B-LOC I-LOC I-LOC O</td>\n",
       "      <td>AL-AIN , United Arab Emirates 1996-12-06</td>\n",
       "    </tr>\n",
       "    <tr>\n",
       "      <th>3</th>\n",
       "      <td>B-LOC O O O O O B-MISC I-MISC O O O O O O O B...</td>\n",
       "      <td>Japan began the defence of their Asian Cup ti...</td>\n",
       "    </tr>\n",
       "    <tr>\n",
       "      <th>4</th>\n",
       "      <td>O B-LOC O O O O O O O O O O O O O O O O O O O...</td>\n",
       "      <td>But China saw their luck desert them in the s...</td>\n",
       "    </tr>\n",
       "  </tbody>\n",
       "</table>\n",
       "</div>"
      ],
      "text/plain": [
       "                                               label  \\\n",
       "0                   O O B-LOC O O O O B-PER O O O O    \n",
       "1                                       B-PER I-PER    \n",
       "2                       B-LOC O B-LOC I-LOC I-LOC O    \n",
       "3   B-LOC O O O O O B-MISC I-MISC O O O O O O O B...   \n",
       "4   O B-LOC O O O O O O O O O O O O O O O O O O O...   \n",
       "\n",
       "                                                text  \n",
       "0   SOCCER - JAPAN GET LUCKY WIN , CHINA IN SURPR...  \n",
       "1                                       Nadim Ladki   \n",
       "2          AL-AIN , United Arab Emirates 1996-12-06   \n",
       "3   Japan began the defence of their Asian Cup ti...  \n",
       "4   But China saw their luck desert them in the s...  "
      ]
     },
     "execution_count": 6,
     "metadata": {},
     "output_type": "execute_result"
    }
   ],
   "source": [
    "df_out.head()"
   ]
  },
  {
   "cell_type": "code",
   "execution_count": 51,
   "metadata": {},
   "outputs": [
    {
     "name": "stdout",
     "output_type": "stream",
     "text": [
      " Sheep have long been known to contract scrapie , a brain-wasting disease similar to BSE which is believed to have been transferred to cattle through feed containing animal waste . \n"
     ]
    }
   ],
   "source": [
    "a = text.loc[14]\n",
    "print(a)"
   ]
  },
  {
   "cell_type": "code",
   "execution_count": 52,
   "metadata": {},
   "outputs": [
    {
     "name": "stdout",
     "output_type": "stream",
     "text": [
      " The EU 's scientific veterinary and multidisciplinary committees are due to re-examine the issue early next month and make recommendations to the senior veterinary officials . \n"
     ]
    }
   ],
   "source": [
    "b = text.loc[13]\n",
    "print(b)"
   ]
  },
  {
   "cell_type": "code",
   "execution_count": null,
   "metadata": {},
   "outputs": [],
   "source": []
  }
 ],
 "metadata": {
  "kernelspec": {
   "display_name": "Python 3",
   "language": "python",
   "name": "python3"
  },
  "language_info": {
   "codemirror_mode": {
    "name": "ipython",
    "version": 3
   },
   "file_extension": ".py",
   "mimetype": "text/x-python",
   "name": "python",
   "nbconvert_exporter": "python",
   "pygments_lexer": "ipython3",
   "version": "3.6.5"
  }
 },
 "nbformat": 4,
 "nbformat_minor": 2
}
