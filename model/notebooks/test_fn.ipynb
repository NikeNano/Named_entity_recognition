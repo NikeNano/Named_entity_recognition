{
 "cells": [
  {
   "cell_type": "code",
   "execution_count": 17,
   "metadata": {},
   "outputs": [],
   "source": [
    "from chars_lstm_lstm_crf import * \n",
    "import tensorflow as tf\n",
    "import pandas as pd\n",
    "import numpy as np \n",
    "from pathlib import Path\n",
    "import os\n",
    "DATADIR = '../../data/example'"
   ]
  },
  {
   "cell_type": "code",
   "execution_count": 18,
   "metadata": {},
   "outputs": [],
   "source": [
    "def fwords(name):\n",
    "    return str(Path(DATADIR, '{}.words.txt'.format(name)))\n",
    "\n",
    "def ftags(name):\n",
    "    return str(Path(DATADIR, '{}.tags.txt'.format(name)))"
   ]
  },
  {
   "cell_type": "code",
   "execution_count": 29,
   "metadata": {},
   "outputs": [],
   "source": [
    "path_data = r\"/Users/Niklas/Documents/tf_ner/data/example/train.words.txt\"\n",
    "path_tags = r\"/Users/Niklas/Documents/tf_ner/data/example/train.tags.txt\""
   ]
  },
  {
   "cell_type": "code",
   "execution_count": 30,
   "metadata": {},
   "outputs": [
    {
     "data": {
      "text/plain": [
       "True"
      ]
     },
     "execution_count": 30,
     "metadata": {},
     "output_type": "execute_result"
    }
   ],
   "source": [
    "os.path.isfile(path_data)\n",
    "os.path.isfile(path_tags)"
   ]
  },
  {
   "cell_type": "code",
   "execution_count": 34,
   "metadata": {},
   "outputs": [],
   "source": [
    "def parse_fn(line_words, line_tags):\n",
    "    # Encode in Bytes for TF\n",
    "    words = [w.encode() for w in line_words.strip().split()]\n",
    "    tags = [t.encode() for t in line_tags.strip().split()]\n",
    "    assert len(words) == len(tags), \"Words and tags lengths don't match\"\n",
    "\n",
    "    # Chars\n",
    "    chars = [[c.encode() for c in w] for w in line_words.strip().split()]\n",
    "    lengths = [len(c) for c in chars]\n",
    "    max_len = max(lengths)\n",
    "    chars = [c + [b'<pad>'] * (max_len - l) for c, l in zip(chars, lengths)]\n",
    "    return ((words, len(words)), (chars, lengths)), tags\n",
    "\n",
    "def my_returner():\n",
    "    with Path(path_data).open('r') as f_words, Path(path_tags).open('r') as f_tags:\n",
    "            for line_words, line_tags in zip(f_words, f_tags):\n",
    "                yield parse_fn(line_words, line_tags)"
   ]
  },
  {
   "cell_type": "code",
   "execution_count": 35,
   "metadata": {},
   "outputs": [],
   "source": [
    "my_itter = my_returner()"
   ]
  },
  {
   "cell_type": "code",
   "execution_count": 37,
   "metadata": {},
   "outputs": [],
   "source": [
    "ans = next(my_itter)"
   ]
  },
  {
   "cell_type": "code",
   "execution_count": 41,
   "metadata": {},
   "outputs": [
    {
     "data": {
      "text/plain": [
       "[b'B-PER', b'O', b'O', b'B-LOC']"
      ]
     },
     "execution_count": 41,
     "metadata": {},
     "output_type": "execute_result"
    }
   ],
   "source": [
    "ans[1]"
   ]
  },
  {
   "cell_type": "code",
   "execution_count": 43,
   "metadata": {},
   "outputs": [
    {
     "data": {
      "text/plain": [
       "(([b'Raph', b'lives', b'in', b'London'], 4),\n",
       " ([[b'R', b'a', b'p', b'h', b'<pad>', b'<pad>'],\n",
       "   [b'l', b'i', b'v', b'e', b's', b'<pad>'],\n",
       "   [b'i', b'n', b'<pad>', b'<pad>', b'<pad>', b'<pad>'],\n",
       "   [b'L', b'o', b'n', b'd', b'o', b'n']],\n",
       "  [4, 5, 2, 6]))"
      ]
     },
     "execution_count": 43,
     "metadata": {},
     "output_type": "execute_result"
    }
   ],
   "source": [
    "ans[0]"
   ]
  },
  {
   "cell_type": "code",
   "execution_count": 48,
   "metadata": {},
   "outputs": [
    {
     "data": {
      "text/plain": [
       "((([b'Raph', b'lives', b'in', b'London'], 4),\n",
       "  ([[b'R', b'a', b'p', b'h', b'<pad>', b'<pad>'],\n",
       "    [b'l', b'i', b'v', b'e', b's', b'<pad>'],\n",
       "    [b'i', b'n', b'<pad>', b'<pad>', b'<pad>', b'<pad>'],\n",
       "    [b'L', b'o', b'n', b'd', b'o', b'n']],\n",
       "   [4, 5, 2, 6])),\n",
       " [b'B-PER', b'O', b'O', b'B-LOC'])"
      ]
     },
     "execution_count": 48,
     "metadata": {},
     "output_type": "execute_result"
    }
   ],
   "source": [
    "ans"
   ]
  },
  {
   "cell_type": "code",
   "execution_count": 47,
   "metadata": {},
   "outputs": [],
   "source": [
    "a=\"b\"\n",
    "b=\"b\"\n",
    "assert a==b, \"it is not correct\""
   ]
  },
  {
   "cell_type": "code",
   "execution_count": null,
   "metadata": {},
   "outputs": [],
   "source": [
    "# Each word to the same length \n",
    "# Keep track of the lenght of the words\n",
    "# Keep track of the lenght of the sentence \n",
    "\n",
    "# I can make my own embeddings and use those instead\n",
    "# Lets make my own embeddings instead THen i guess\n",
    "# First i need to convert the data to the correct format\n",
    "\n",
    "# First I need to convert it to numbers, \n",
    "# hmm how does this match the glove vectors? "
   ]
  },
  {
   "cell_type": "code",
   "execution_count": null,
   "metadata": {},
   "outputs": [],
   "source": [
    "ans[0][]"
   ]
  }
 ],
 "metadata": {
  "kernelspec": {
   "display_name": "Python 3",
   "language": "python",
   "name": "python3"
  },
  "language_info": {
   "codemirror_mode": {
    "name": "ipython",
    "version": 3
   },
   "file_extension": ".py",
   "mimetype": "text/x-python",
   "name": "python",
   "nbconvert_exporter": "python",
   "pygments_lexer": "ipython3",
   "version": "3.6.5"
  }
 },
 "nbformat": 4,
 "nbformat_minor": 2
}
