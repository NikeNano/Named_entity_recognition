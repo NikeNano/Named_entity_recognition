{
 "cells": [
  {
   "cell_type": "code",
   "execution_count": 2,
   "metadata": {},
   "outputs": [],
   "source": [
    "import tensorflow as tf\n",
    "\n",
    "tf.enable_eager_execution()"
   ]
  },
  {
   "cell_type": "code",
   "execution_count": 20,
   "metadata": {},
   "outputs": [
    {
     "data": {
      "text/plain": [
       "<tf.Tensor: id=42, shape=(2, 3, 4), dtype=float32, numpy=\n",
       "array([[[1. , 2. , 4.5, 4.5],\n",
       "        [1.1, 2.1, 1.3, 4.5],\n",
       "        [1.1, 2.1, 1.3, 4.5]],\n",
       "\n",
       "       [[3. , 4. , 1.5, 4.5],\n",
       "        [1.1, 2.1, 1.3, 4.5],\n",
       "        [1.1, 2.1, 1.3, 4.5]]], dtype=float32)>"
      ]
     },
     "execution_count": 20,
     "metadata": {},
     "output_type": "execute_result"
    }
   ],
   "source": [
    "c = tf.constant([[[1.0, 2.0,4.5,4.5],[1.1,2.1,1.3,4.5],[1.1,2.1,1.3,4.5]], \n",
    "                 [[3.0, 4.0,1.5,4.5],[1.1,2.1,1.3,4.5],[1.1,2.1,1.3,4.5]]]\n",
    "               )\n",
    "c"
   ]
  },
  {
   "cell_type": "code",
   "execution_count": 21,
   "metadata": {},
   "outputs": [],
   "source": [
    "shape = tf.shape(c)"
   ]
  },
  {
   "cell_type": "code",
   "execution_count": 25,
   "metadata": {},
   "outputs": [
    {
     "data": {
      "text/plain": [
       "<tf.Tensor: id=84, shape=(3,), dtype=int32, numpy=array([2, 3, 4], dtype=int32)>"
      ]
     },
     "execution_count": 25,
     "metadata": {},
     "output_type": "execute_result"
    }
   ],
   "source": [
    "char_embeddings = tf.reshape(c , shape=[-1, shape[-2], shape[-1]])\n",
    "shape_2 = tf.shape(char_embeddings)\n",
    "shape_2"
   ]
  },
  {
   "cell_type": "code",
   "execution_count": 26,
   "metadata": {},
   "outputs": [
    {
     "data": {
      "text/plain": [
       "<tf.Tensor: id=44, shape=(3,), dtype=int32, numpy=array([2, 3, 4], dtype=int32)>"
      ]
     },
     "execution_count": 26,
     "metadata": {},
     "output_type": "execute_result"
    }
   ],
   "source": [
    "shape"
   ]
  },
  {
   "cell_type": "code",
   "execution_count": 23,
   "metadata": {},
   "outputs": [
    {
     "name": "stdout",
     "output_type": "stream",
     "text": [
      "tf.Tensor(2, shape=(), dtype=int32)\n",
      "tf.Tensor(4, shape=(), dtype=int32)\n",
      "tf.Tensor(3, shape=(), dtype=int32)\n"
     ]
    }
   ],
   "source": [
    "print(shape[0])\n",
    "print(shape[-1])\n",
    "print(shape[-2])"
   ]
  },
  {
   "cell_type": "code",
   "execution_count": 11,
   "metadata": {},
   "outputs": [
    {
     "name": "stdout",
     "output_type": "stream",
     "text": [
      "tf.Tensor([2 3], shape=(2,), dtype=int32)\n"
     ]
    }
   ],
   "source": [
    "print(shape)"
   ]
  },
  {
   "cell_type": "code",
   "execution_count": null,
   "metadata": {},
   "outputs": [],
   "source": [
    "print(shape)"
   ]
  },
  {
   "cell_type": "code",
   "execution_count": 45,
   "metadata": {},
   "outputs": [
    {
     "name": "stdout",
     "output_type": "stream",
     "text": [
      "[{u'y': 1058, u'x': 136, u'w': 44, u'h': 33}, {u'y': 1058, u'x': 406, u'w': 220, u'h': 33}, {u'y': 1058, u'x': 1015, u'w': 59, u'h': 33}, {u'y': 1058, u'x': 1140, u'w': 47, u'h': 33}, {u'y': 1058, u'x': 1308, u'w': 87, u'h': 33}, {u'y': 1058, u'x': 1591, u'w': 87, u'h': 33}]\n",
      "<type 'list'>\n"
     ]
    }
   ],
   "source": [
    "import json\n",
    "\n",
    "\n",
    "def find_table_in_boxes(boxes, cell_threshold=10, min_columns=2):\n",
    "    cols = {}\n",
    "    rows = {}\n",
    "\n",
    "    # Clustering the bounding boxes by their positions\n",
    "    for box in boxes:\n",
    "        x = box['x']\n",
    "        y = box['y']\n",
    "        w = box['w']\n",
    "        h = box['w']\n",
    "\n",
    "        col_key = x // cell_threshold\n",
    "        row_key = y // cell_threshold\n",
    "\n",
    "        cols[row_key] = [box] if col_key not in cols else cols[col_key] + [box]\n",
    "        rows[row_key] = [box] if row_key not in rows else rows[row_key] + [box]\n",
    "\n",
    "    # Filtering out the clusters having less than 2 cols\n",
    "    table_cells = list(filter(lambda r: len(r) >= min_columns, rows.values()))\n",
    "    # Sorting the row cells by x coord\n",
    "    table_cells  = [list(sorted(tb, key=lambda x: x.values())) for tb in table_cells]\n",
    "    [(k, d[k]) for k in sorted(d, key=d.get, reverse=True)]\n",
    "\n",
    "    \n",
    "    print(tb)\n",
    "    print(type(tb))\n",
    "if __name__ == '__main__':\n",
    "\n",
    "    with open('/Users/Niklas/Downloads/crap.json') as f:\n",
    "        data = json.load(f)\n",
    "\n",
    "\n",
    "    cells = find_table_in_boxes(data[0])\n",
    "    "
   ]
  },
  {
   "cell_type": "code",
   "execution_count": null,
   "metadata": {},
   "outputs": [],
   "source": []
  }
 ],
 "metadata": {
  "kernelspec": {
   "display_name": "Python 2",
   "language": "python",
   "name": "python2"
  },
  "language_info": {
   "codemirror_mode": {
    "name": "ipython",
    "version": 2
   },
   "file_extension": ".py",
   "mimetype": "text/x-python",
   "name": "python",
   "nbconvert_exporter": "python",
   "pygments_lexer": "ipython2",
   "version": "2.7.15"
  }
 },
 "nbformat": 4,
 "nbformat_minor": 2
}
